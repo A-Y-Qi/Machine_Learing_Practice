{
 "cells": [
  {
   "cell_type": "markdown",
   "metadata": {},
   "source": [
    "# K近邻算法-自由练习"
   ]
  },
  {
   "cell_type": "markdown",
   "metadata": {},
   "source": [
    "### 0. 引入依赖"
   ]
  },
  {
   "cell_type": "code",
   "execution_count": 158,
   "metadata": {},
   "outputs": [],
   "source": [
    "import numpy as np\n",
    "import pandas as pd\n",
    "\n",
    "\n",
    "#治理直接引入sklearn的数据集，红酒分类预测练习\n",
    "from sklearn.datasets import load_wine\n",
    "from sklearn.model_selection import train_test_split    ##切分数据集为切分数据集和测试集\n",
    "from sklearn.metrics import accuracy_score  #计算分类预测的准确率"
   ]
  },
  {
   "cell_type": "markdown",
   "metadata": {},
   "source": [
    "### 1. 数据加载预处理"
   ]
  },
  {
   "cell_type": "code",
   "execution_count": 159,
   "metadata": {},
   "outputs": [],
   "source": [
    "wine = load_wine()\n",
    "df = pd.DataFrame(data=wine.data, columns=wine.feature_names)\n",
    "df['class']=wine.target"
   ]
  },
  {
   "cell_type": "code",
   "execution_count": 160,
   "metadata": {},
   "outputs": [],
   "source": [
    "x = wine.data\n",
    "y = wine.target.reshape(-1,1)"
   ]
  },
  {
   "cell_type": "code",
   "execution_count": 161,
   "metadata": {},
   "outputs": [
    {
     "name": "stdout",
     "output_type": "stream",
     "text": [
      "(124, 13) (124, 1)\n"
     ]
    }
   ],
   "source": [
    "# 划分训练集和测试集\n",
    "\n",
    "## random_state: 随机种子，可以随便给\n",
    "## Stratify: 使分布成比例\n",
    "\n",
    "x_train, x_test,y_train, y_test = train_test_split(x,y,test_size=0.3, random_state=35, stratify=y)\n",
    "\n",
    "print(x_train.shape, y_train.shape)\n"
   ]
  },
  {
   "cell_type": "markdown",
   "metadata": {},
   "source": [
    "### 2. 核心算法实现"
   ]
  },
  {
   "cell_type": "code",
   "execution_count": 162,
   "metadata": {},
   "outputs": [],
   "source": [
    "#距离函数定义 (寻找每个x_test 和 每个 x_train之间的距离)\n",
    "def l1_distance(a,b):\n",
    "    '''\n",
    "    parameters:\n",
    "    a: training set with size (133,13)\n",
    "    b: test vector with size (1,13)\n",
    "\n",
    "    return:\n",
    "    the distance between each example in a and b using l1 distance\n",
    "    '''\n",
    "    return np.sum(np.abs(a-b), axis=1)\n",
    "\n",
    "def l2_distance(a,b):\n",
    "    '''\n",
    "    parameters:\n",
    "    a: training set with size (133,13)\n",
    "    b: test vector with size (1,13)\n",
    "\n",
    "    return:\n",
    "    the distance between each example in a and b using l2 distance\n",
    "    '''\n",
    "    return np.sqrt(np.sum(np.abs(a-b)**2, axis=1))\n",
    "\n",
    "\n",
    "\n",
    "# 分类器实现\n",
    "class kNN(object):\n",
    "    #__init__ method\n",
    "    def __init__(self, n_neighbours=1, dist_func = l1_distance):\n",
    "        self.n_neighbours= n_neighbours\n",
    "        self.dist_func=dist_func\n",
    "    \n",
    "    #训练模型方法\n",
    "    ##注意这里是Knn所以其实并不需要训练，只要传入training set就行\n",
    "    def fit(self,x,y):\n",
    "        self.x_train=x\n",
    "        self.y_train=y\n",
    "\n",
    "    #模型预测方法\n",
    "    def predict (self,x):\n",
    "        #初始化预测分类数据\n",
    "        y_pred = np.zeros((x.shape[0],1),dtype=self.y_train.dtype)\n",
    "        #遍历输入的x数据点，去除每一个数据点序号i和数据x_test\n",
    "        for i, x_test in enumerate(x):\n",
    "            # x_test跟所有训练数据计算距离\n",
    "            distances = self.dist_func(self.x_train,x_test)\n",
    "            # 得到的距离按照由近到远排序，取出index\n",
    "            nn_index=np.argsort(distances)\n",
    "            # 取出前n个索引值，和其对应的y值\n",
    "            nn_y = self.y_train[nn_index[:self.n_neighbours]].ravel()\n",
    "            #找出概率最高的值\n",
    "            y_pred[i]=np.argmax(np.bincount(nn_y))\n",
    "        return y_pred\n",
    "\n",
    "\n",
    "\n"
   ]
  },
  {
   "cell_type": "markdown",
   "metadata": {},
   "source": [
    "### 3.测试"
   ]
  },
  {
   "cell_type": "code",
   "execution_count": 163,
   "metadata": {},
   "outputs": [
    {
     "name": "stdout",
     "output_type": "stream",
     "text": [
      "预测准确率： 0.7592592592592593\n"
     ]
    }
   ],
   "source": [
    "knn=kNN(n_neighbours=6, dist_func=l2_distance)\n",
    "knn.fit(x_train,y_train)\n",
    "y_pred = knn.predict(x_test)\n",
    "accuracy=accuracy_score(y_test,y_pred)\n",
    "\n",
    "print(\"预测准确率：\", accuracy)"
   ]
  },
  {
   "cell_type": "code",
   "execution_count": 164,
   "metadata": {},
   "outputs": [
    {
     "data": {
      "text/html": [
       "<div>\n",
       "<style scoped>\n",
       "    .dataframe tbody tr th:only-of-type {\n",
       "        vertical-align: middle;\n",
       "    }\n",
       "\n",
       "    .dataframe tbody tr th {\n",
       "        vertical-align: top;\n",
       "    }\n",
       "\n",
       "    .dataframe thead th {\n",
       "        text-align: right;\n",
       "    }\n",
       "</style>\n",
       "<table border=\"1\" class=\"dataframe\">\n",
       "  <thead>\n",
       "    <tr style=\"text-align: right;\">\n",
       "      <th></th>\n",
       "      <th>k</th>\n",
       "      <th>距离函数</th>\n",
       "      <th>预测准确率</th>\n",
       "    </tr>\n",
       "  </thead>\n",
       "  <tbody>\n",
       "    <tr>\n",
       "      <th>0</th>\n",
       "      <td>1</td>\n",
       "      <td>l1_distance</td>\n",
       "      <td>0.870370</td>\n",
       "    </tr>\n",
       "    <tr>\n",
       "      <th>1</th>\n",
       "      <td>3</td>\n",
       "      <td>l1_distance</td>\n",
       "      <td>0.814815</td>\n",
       "    </tr>\n",
       "    <tr>\n",
       "      <th>2</th>\n",
       "      <td>1</td>\n",
       "      <td>l2_distance</td>\n",
       "      <td>0.851852</td>\n",
       "    </tr>\n",
       "    <tr>\n",
       "      <th>3</th>\n",
       "      <td>3</td>\n",
       "      <td>l2_distance</td>\n",
       "      <td>0.740741</td>\n",
       "    </tr>\n",
       "  </tbody>\n",
       "</table>\n",
       "</div>"
      ],
      "text/plain": [
       "   k         距离函数     预测准确率\n",
       "0  1  l1_distance  0.870370\n",
       "1  3  l1_distance  0.814815\n",
       "2  1  l2_distance  0.851852\n",
       "3  3  l2_distance  0.740741"
      ]
     },
     "execution_count": 164,
     "metadata": {},
     "output_type": "execute_result"
    }
   ],
   "source": [
    "#定义一个实例\n",
    "knn=kNN()\n",
    "#训练模型\n",
    "knn.fit(x_train, y_train)\n",
    "#传入测试数据做预测\n",
    "y_pred = knn.predict(x_test)\n",
    "\n",
    "#保存结果list\n",
    "result_list=[]\n",
    "\n",
    "#针对不同的参数选取，做预测\n",
    "for p in [1,2]:\n",
    "    knn.dist_func = l1_distance if p==1 else l2_distance\n",
    "    #考虑不同的k值, 步长为2\n",
    "    for k in range (1,5,2): \n",
    "        knn.n_neighbours=k\n",
    "        # 传入测试数据，做预测\n",
    "        y_pred = knn.predict(x_test)\n",
    "        # 求出预测准确率\n",
    "        accuracy = accuracy_score(y_test,y_pred)\n",
    "        result_list.append([k, 'l1_distance' if p==1 else 'l2_distance', accuracy])\n",
    "\n",
    "df=pd.DataFrame(result_list, columns=['k','距离函数','预测准确率'])\n",
    "\n",
    "df"
   ]
  }
 ],
 "metadata": {
  "kernelspec": {
   "display_name": "Python 3.10.5 64-bit",
   "language": "python",
   "name": "python3"
  },
  "language_info": {
   "codemirror_mode": {
    "name": "ipython",
    "version": 3
   },
   "file_extension": ".py",
   "mimetype": "text/x-python",
   "name": "python",
   "nbconvert_exporter": "python",
   "pygments_lexer": "ipython3",
   "version": "3.10.5"
  },
  "orig_nbformat": 4,
  "vscode": {
   "interpreter": {
    "hash": "aee8b7b246df8f9039afb4144a1f6fd8d2ca17a180786b69acc140d282b71a49"
   }
  }
 },
 "nbformat": 4,
 "nbformat_minor": 2
}
