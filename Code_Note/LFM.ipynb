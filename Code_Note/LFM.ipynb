{
 "cells": [
  {
   "cell_type": "markdown",
   "metadata": {},
   "source": [
    "# LFM 梯度下降算法实现"
   ]
  },
  {
   "cell_type": "markdown",
   "metadata": {},
   "source": [
    "### 0. 引入依赖\n"
   ]
  },
  {
   "cell_type": "code",
   "execution_count": 1,
   "metadata": {},
   "outputs": [],
   "source": [
    "import numpy as np\n",
    "import pandas as pd"
   ]
  },
  {
   "cell_type": "markdown",
   "metadata": {},
   "source": [
    "### 1.数据准备"
   ]
  },
  {
   "cell_type": "code",
   "execution_count": 2,
   "metadata": {},
   "outputs": [
    {
     "data": {
      "text/plain": [
       "(6, 5)"
      ]
     },
     "execution_count": 2,
     "metadata": {},
     "output_type": "execute_result"
    }
   ],
   "source": [
    "#评分矩阵R\n",
    "\n",
    "R=np.array([[4,0,2,0,1],\n",
    "    [0,2,3,0,0],\n",
    "    [1,0,2,4,0],\n",
    "    [5,0,0,3,1],\n",
    "    [0,0,1,5,1],\n",
    "    [0,3,2,4,1]])\n",
    "\n",
    "R.shape\n"
   ]
  },
  {
   "cell_type": "markdown",
   "metadata": {},
   "source": [
    "### 2. 算法实现\n",
    "\n",
    "梯度下降算法\n",
    "\n",
    "$$\n",
    "P_u:=P_u-\\alpha \\cdot \\frac{\\partial L}{\\partial P_u}=P_u-\\alpha \\cdot\\left[\\sum_i 2\\left(P_u^T Q_i-R_{u i}\\right) Q_i+2 \\lambda P_u\\right]\n",
    "$$\n",
    "\n",
    "$$\n",
    "Q_i:=Q_i-\\alpha \\cdot \\frac{\\partial L}{\\partial Q_i}=Q_i-\\alpha \\cdot\\left[\\sum_u 2\\left(P_u^T Q_i-R_{u i}\\right) P_u+2 \\lambda Q_i\\right]\n",
    "$$"
   ]
  },
  {
   "cell_type": "code",
   "execution_count": 3,
   "metadata": {},
   "outputs": [],
   "source": [
    "\"\"\"\n",
    "@输入参数：\n",
    "R: M*N 的评分矩阵\n",
    "K: 隐特征向量维度\n",
    "max_iter: 最大迭代次数\n",
    "alpha: 步长\n",
    "lamda: 正则化系数\n",
    "\n",
    "@输出\n",
    "分解之后的P, Q\n",
    "P: 初始化用户特征矩阵M*K\n",
    "Q: 初始化物品特征矩阵N*K\n",
    "\"\"\"\n",
    "\n",
    "#给定超参数\n",
    "\n",
    "K=7\n",
    "max_iter = 5000\n",
    "alpha = 0.0002\n",
    "lamda=0.004\n",
    "\n",
    "#核心算法\n",
    "def LFM_grad_desc(R,max_iter,lamda, K=2,alpha=0.0001):\n",
    "    #基本维度参数定义\n",
    "    M=len(R)\n",
    "    N=len(R[0])\n",
    "\n",
    "    #P,Q初始值随机生成\n",
    "    P=np.random.rand(M,K)\n",
    "    Q=np.random.rand(N,K)\n",
    "    Q=Q.T\n",
    "    \n",
    "    #开始迭代\n",
    "    for steps in range(max_iter):\n",
    "        #对所有的用户u物品i做遍历，对应的特征向量Pu，Qi梯度下降\n",
    "        for u in range (M):\n",
    "            for i in range(N):\n",
    "                #对于每一个大于0的评分，求出预测评分误差\n",
    "                if R[u][i]>0:\n",
    "                    eui=np.dot(P[u],Q[:,i])-R[u][i]\n",
    "\n",
    "                    #代入公式，按照梯度下降算法更新当前Pu和Qi\n",
    "                    for k in range(K):\n",
    "                        P[u][k]-=alpha*(2*eui*Q[k][i]+2*lamda*P[u][k]) ##这里对i的求和可以无视掉，因为我们已经对i进行了遍历\n",
    "                        Q[k][i]-=alpha*(2*eui*P[u][k]+2*lamda*Q[k][i]) ##同样对u的求和可以无视因为对u也进行了遍历\n",
    "\n",
    "    ##u,i遍历完成，所有特征向量更新完成，可以得到P，Q，可以计算预测评分矩阵\n",
    "        predR=np.matmul(P,Q)\n",
    "\n",
    "        ##计算当前损失函数\n",
    "        cost=0\n",
    "        for u in range(M):\n",
    "            for i in range(N):\n",
    "                if R[u][i] > 0:\n",
    "                    cost += (np.dot(P[u,:],Q[:,i])-R[u][i]) ** 2\n",
    "                    #加上正则化项\n",
    "                    for k in range(K):\n",
    "                        cost+=lamda * (P[u][k] ** 2 + Q[k][i] ** 2 )\n",
    "        \n",
    "        if cost < 0.0001:\n",
    "            break\n",
    "\n",
    "\n",
    "\n",
    "\n",
    "    return P,Q.T, cost"
   ]
  },
  {
   "cell_type": "markdown",
   "metadata": {},
   "source": [
    "### 3.测试"
   ]
  },
  {
   "cell_type": "code",
   "execution_count": 4,
   "metadata": {},
   "outputs": [
    {
     "name": "stdout",
     "output_type": "stream",
     "text": [
      "0.5787042882401734\n",
      "[[4 0 2 0 1]\n",
      " [0 2 3 0 0]\n",
      " [1 0 2 4 0]\n",
      " [5 0 0 3 1]\n",
      " [0 0 1 5 1]\n",
      " [0 3 2 4 1]]\n"
     ]
    },
    {
     "data": {
      "text/plain": [
       "array([[3.98795551, 2.10726749, 1.9991871 , 3.43746482, 1.0181826 ],\n",
       "       [3.30091335, 2.09562135, 2.92014871, 3.25623383, 1.05565739],\n",
       "       [1.00520644, 2.08016562, 1.99566042, 3.98946945, 0.81658078],\n",
       "       [4.99607331, 2.81136464, 2.29543111, 2.99770168, 0.97034359],\n",
       "       [3.19828934, 2.57326978, 1.00496311, 4.97707124, 1.02387099],\n",
       "       [4.05099881, 2.89961788, 2.05055987, 4.02328965, 0.98618654]])"
      ]
     },
     "execution_count": 4,
     "metadata": {},
     "output_type": "execute_result"
    }
   ],
   "source": [
    "P,Q,cost = LFM_grad_desc(R,max_iter,lamda, K,alpha)\n",
    "\n",
    "predR=P.dot(Q.T)\n",
    "\n",
    "print(cost)\n",
    "print(R)\n",
    "\n",
    "predR"
   ]
  }
 ],
 "metadata": {
  "kernelspec": {
   "display_name": "Python 3.10.5 64-bit",
   "language": "python",
   "name": "python3"
  },
  "language_info": {
   "codemirror_mode": {
    "name": "ipython",
    "version": 3
   },
   "file_extension": ".py",
   "mimetype": "text/x-python",
   "name": "python",
   "nbconvert_exporter": "python",
   "pygments_lexer": "ipython3",
   "version": "3.10.5"
  },
  "orig_nbformat": 4,
  "vscode": {
   "interpreter": {
    "hash": "aee8b7b246df8f9039afb4144a1f6fd8d2ca17a180786b69acc140d282b71a49"
   }
  }
 },
 "nbformat": 4,
 "nbformat_minor": 2
}
