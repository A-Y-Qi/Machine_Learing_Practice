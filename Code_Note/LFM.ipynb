{
 "cells": [
  {
   "cell_type": "markdown",
   "metadata": {},
   "source": [
    "# LFM 梯度下降算法实现"
   ]
  },
  {
   "cell_type": "markdown",
   "metadata": {},
   "source": [
    "### 0. 引入依赖\n"
   ]
  },
  {
   "cell_type": "code",
   "execution_count": 45,
   "metadata": {},
   "outputs": [],
   "source": [
    "import numpy as np\n",
    "import pandas as pd"
   ]
  },
  {
   "cell_type": "markdown",
   "metadata": {},
   "source": [
    "### 1.数据准备"
   ]
  },
  {
   "cell_type": "code",
   "execution_count": 46,
   "metadata": {},
   "outputs": [
    {
     "data": {
      "text/plain": [
       "(6, 5)"
      ]
     },
     "execution_count": 46,
     "metadata": {},
     "output_type": "execute_result"
    }
   ],
   "source": [
    "#评分矩阵R\n",
    "\n",
    "R=np.array([[4,0,2,0,1],\n",
    "    [0,2,3,0,0],\n",
    "    [1,0,2,4,0],\n",
    "    [5,0,0,3,1],\n",
    "    [0,0,1,5,1],\n",
    "    [0,3,2,4,1]])\n",
    "\n",
    "R.shape\n"
   ]
  },
  {
   "cell_type": "markdown",
   "metadata": {},
   "source": [
    "### 2. 算法实现"
   ]
  },
  {
   "cell_type": "code",
   "execution_count": 47,
   "metadata": {},
   "outputs": [],
   "source": [
    "\"\"\"\n",
    "@输入参数：\n",
    "R: M*N 的评分矩阵\n",
    "K: 隐特征向量维度\n",
    "max_iter: 最大迭代次数\n",
    "alpha: 步长\n",
    "lamda: 正则化系数\n",
    "\n",
    "@输出\n",
    "分解之后的P, Q\n",
    "P: 初始化用户特征矩阵M*K\n",
    "Q: 初始化物品特征矩阵N*K\n",
    "\"\"\"\n",
    "\n",
    "#给定超参数\n",
    "\n",
    "K=5\n",
    "max_iter = 5000\n",
    "alpha = 0.0002\n",
    "lamda=0.004\n",
    "\n",
    "#核心算法\n",
    "def LFM_grad_desc(R,max_iter,lamda, K=2,alpha=0.0001):\n",
    "    #基本维度参数定义\n",
    "    M=len(R)\n",
    "    N=len(R[0])\n",
    "\n",
    "    #P,Q初始值随机生成\n",
    "    P=np.random.rand(M,K)\n",
    "    Q=np.random.rand(N,K)\n",
    "    Q=Q.T\n",
    "    \n",
    "    #开始迭代\n",
    "    for steps in range(max_iter):\n",
    "        #对所有的用户u物品i做遍历，对应的特征向量Pu，Qi梯度下降\n",
    "        for u in range (M):\n",
    "            for i in range(N):\n",
    "                #对于每一个大于0的评分，求出预测评分误差\n",
    "                if R[u][i]>0:\n",
    "                    eui=np.dot(P[u],Q[:,i])-R[u][i]\n",
    "\n",
    "                    #代入公式，按照梯度下降算法更新当前Pu和Qi\n",
    "                    for k in range(K):\n",
    "                        P[u][k]-=alpha*(2*eui*Q[k][i]+2*lamda*P[u][k])\n",
    "                        Q[k][i]-=alpha*(2*eui*P[u][k]+2*lamda*Q[k][i])\n",
    "\n",
    "    ##u,i遍历完成，所有特征向量更新完成，可以得到P，Q，可以计算预测评分矩阵\n",
    "        predR=np.matmul(P,Q)\n",
    "\n",
    "        ##计算当前损失函数\n",
    "        cost=0\n",
    "        for u in range(M):\n",
    "            for i in range(N):\n",
    "                if R[u][i] > 0:\n",
    "                    cost += (np.dot(P[u,:],Q[:,i])-R[u][i]) ** 2\n",
    "                    #加上正则化项\n",
    "                    for k in range(K):\n",
    "                        cost+=lamda * (P[u][k] ** 2 + Q[k][i] ** 2 )\n",
    "        \n",
    "        if cost < 0.0001:\n",
    "            break\n",
    "\n",
    "\n",
    "\n",
    "\n",
    "    return P,Q.T, cost"
   ]
  },
  {
   "cell_type": "markdown",
   "metadata": {},
   "source": [
    "### 3.测试"
   ]
  },
  {
   "cell_type": "code",
   "execution_count": 48,
   "metadata": {},
   "outputs": [
    {
     "name": "stdout",
     "output_type": "stream",
     "text": [
      "0.580495763939746\n",
      "[[4 0 2 0 1]\n",
      " [0 2 3 0 0]\n",
      " [1 0 2 4 0]\n",
      " [5 0 0 3 1]\n",
      " [0 0 1 5 1]\n",
      " [0 3 2 4 1]]\n"
     ]
    },
    {
     "data": {
      "text/plain": [
       "array([[3.97762001, 2.22927031, 2.02007544, 4.68116326, 1.02992119],\n",
       "       [4.08694258, 2.03841393, 2.95696321, 4.0383859 , 1.08428127],\n",
       "       [1.014133  , 1.0766764 , 1.99481694, 3.98320788, 0.74713597],\n",
       "       [4.99518596, 2.29731116, 2.57499481, 2.99482858, 1.0059497 ],\n",
       "       [4.80407937, 2.16438049, 1.01952862, 4.99226814, 0.94197465],\n",
       "       [4.15369296, 2.95913832, 1.99240253, 4.00579583, 1.02078038]])"
      ]
     },
     "execution_count": 48,
     "metadata": {},
     "output_type": "execute_result"
    }
   ],
   "source": [
    "P,Q,cost = LFM_grad_desc(R,max_iter,lamda, K,alpha)\n",
    "\n",
    "predR=P.dot(Q.T)\n",
    "\n",
    "print(cost)\n",
    "print(R)\n",
    "\n",
    "predR"
   ]
  }
 ],
 "metadata": {
  "kernelspec": {
   "display_name": "Python 3.10.5 ('.venv': venv)",
   "language": "python",
   "name": "python3"
  },
  "language_info": {
   "codemirror_mode": {
    "name": "ipython",
    "version": 3
   },
   "file_extension": ".py",
   "mimetype": "text/x-python",
   "name": "python",
   "nbconvert_exporter": "python",
   "pygments_lexer": "ipython3",
   "version": "3.10.5"
  },
  "orig_nbformat": 4,
  "vscode": {
   "interpreter": {
    "hash": "7c54a2f7a0717085ed562737e2e835bded1e5819159d8010a55fba23ee38be55"
   }
  }
 },
 "nbformat": 4,
 "nbformat_minor": 2
}
